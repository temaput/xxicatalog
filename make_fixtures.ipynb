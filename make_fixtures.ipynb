{
 "cells": [
  {
   "cell_type": "code",
   "execution_count": 40,
   "metadata": {
    "collapsed": true
   },
   "outputs": [],
   "source": [
    "import lxml\n",
    "from lxml import etree\n",
    "import csv\n",
    "\n"
   ]
  },
  {
   "cell_type": "code",
   "execution_count": 86,
   "metadata": {
    "collapsed": false
   },
   "outputs": [],
   "source": [
    "def collect_articles(tree):\n",
    "    l1 = [book.find('код').text for book in tree.getroot().iter('издание')]\n",
    "    l2 = [\"{:0>5}\".format(article) for article in l1]\n",
    "    return l1, l2\n",
    "        \n",
    "def save_tree(tree, fname='fixture.xml'):\n",
    "    tree.write(fname, encoding='utf-8', pretty_print=True)\n",
    "    \n",
    "def open_tree(fname='oneCdata.xml'):\n",
    "    return etree.parse(fname)\n",
    "    \n",
    "def index_books(tree):\n",
    "    return {book.find('код').text:book for book in tree.getroot().iter(\"издание\")}\n",
    "\n",
    "def parse_site_data(hash1, hash2, book_index, processor):\n",
    "    with open('cl_book.csv') as f:\n",
    "        book_reader = csv.DictReader(f, dialect='unix')\n",
    "        for row in book_reader:\n",
    "            article = row['n_code']\n",
    "            if article in hash2 or article in hash1:\n",
    "                if article in hash2:\n",
    "                    bi = hash1[hash2.index(article)]\n",
    "                else:\n",
    "                    bi = article\n",
    "                book = book_index[bi]\n",
    "                processor(book, row)\n",
    "\n",
    "def process_book(book, site_data):\n",
    "    for i, k in enumerate(site_data, 1):\n",
    "        if k is None:\n",
    "            print(\"error with book %s - %s\" % (i, site_data))\n",
    "            continue\n",
    "        el = etree.Element(k)\n",
    "        el.text = site_data[k]\n",
    "        book.append(el)\n",
    "                \n",
    "                \n",
    "        \n"
   ]
  },
  {
   "cell_type": "code",
   "execution_count": 87,
   "metadata": {
    "collapsed": false
   },
   "outputs": [
    {
     "name": "stdout",
     "output_type": "stream",
     "text": [
      "error with book 11 - {'n_code': '670', 'book_description': 'Власова Н.', 'book_format': 'М.: НИЦ \\\\Московская консерватория\\\\\"', 'book_price': '', 'book_title': '', 'book_edition': '', 'book_id': '12474', 'book_translator': ' 2014. - 416 с. + вкл.', 'book_cid': '215', 'book_author_sostavitel': ' ил.', None: ['20141014162814.jpg', '20141014162815.jpg', '<p>В монографии впервые в отечественной науке рассматривается творчество австрийского композитора Александра Цемлинского (1871&ndash;1942). Подробное описание жизненного пути музыканта, его деятельности, его окружения, художественной среды, в которой он существовал, сочетается в книге с обстоятельным представлением его основных сочинений: восемь опер, оркестровые произведения с участием голоса (&laquo;Лирическая симфония&raquo;, &laquo;Симфонические песни&raquo;), камерно-инструментальная музыка, песни.</p><p>Биографические главы (1, 3, 5, 7 и 8-я) в работе чередуются с аналитическими (2, 4, 6 и 9-я), где исследуется собственно музыкальный текст и контекст. Аналитические главы соответствуют основным этапам творчества композитора: периодам ученичества и творческого становления (Вена), времени обретения индивидуального стиля и расцвета таланта (Прага) и позднему периоду, в котором усиливаются ретроспективные черты (Берлин, Вена). В приложениях помещены список сочинений Цемлинского и переводы некоторых использованных им поэтических текстов.</p><p>Книга адресована музыкантам, а также всем интересующимся музыкальной культурой конца XIX &mdash; п&shy;ервой половины ХХ столетия.</p>', '9000'], 'book_bpic': 'Александр Цемлинский. Жизнь и творчество', 'book_translate': ' нот.', 'book_spic': '', 'book_author': '', 'book_sostavitel': ' тв. пер.\"'}\n",
      "error with book 11 - {'n_code': '318', 'book_description': 'Мержанов В.', 'book_format': 'М.: Научно-издательский центр \\\\Московская консерватория\\\\\"', 'book_price': '', 'book_title': '', 'book_edition': '', 'book_id': '4925', 'book_translator': ' 2008. — 320 c.', 'book_cid': '152,267,234,270', 'book_author_sostavitel': ' ил.', None: ['20130327111811.jpg', '20130327111812.jpg', '<p>Книга посвящена выдающемуся пианисту и педагогу, старейшему профессору Московской консерватории, народному артисту СССР&nbsp;— В. К. Мержанову. </p><p>В сборнике статей нашли отражение разные грани творческой личности музыканта &nbsp;— исследователя, педагога, публициста, музыкального критика, общественного деятеля и просветителя. В первом разделе своими мыслями об отдельных шедеврах мировой классики, о проблемах в области педагогики и о своих знаменитых современниках делится сам В. К. Мержанов. Второй раздел написан его учениками и посвящен любимому профессору. Объемное приложение и фотографии помогают систематизировать события творческой биографии музыканта.</p><p>Книга представляет большой интерес для музыкантов-профессионалов и любителей классического искусства.</p><p>Состояние отличное.</p>', '8993'], 'book_bpic': 'Музыка должна разговаривать. Сборник статей', 'book_translate': ' нот.', 'book_spic': 'Крауклис Г.', 'book_author': '', 'book_sostavitel': ' тв. пер.\"'}\n",
      "error with book 11 - {'n_code': '650', 'book_description': 'Симакова Н.', 'book_format': 'М.: НИЦ \\\\Московская консерватория\\\\\"', 'book_price': '', 'book_title': '', 'book_edition': '', 'book_id': '12473', 'book_translator': ' 2013. - 352 с.', 'book_cid': '308,216', 'book_author_sostavitel': ' ил.', None: ['20150127183635.jpg', '20150127183636.jpg', '<p>Предлагаемая книга профессора Московской консерва\\xadтории Н. А. Симаковой представляет собой нетрадиционно выполненное учебное пособие по полифонии. Во Введении и пяти разделах (А, Б, В, Г, Д) в увлекательной, доступной форме последовательно изложены все основные понятия и правила полифонического письма: различие между полифонией и контрапунктом, история, теория, техника, жанры полифонической музыки, даны также методические рекомендации. Нестандартность подачи материала (в сочетании с «веселыми картинками» и «весьма строгими нотными примерами»), несомненно, привлечет внимание широкого читателя.</p><p>Книга адресована студентам музыкальных учебных заведений и может быть доступна любителям музыки.</p>\\xad', '8999'], 'book_bpic': 'Азбука полифонии. Учебное пособие с веселыми картинками и весьма \\\\строгими\\\\\" нотными примерами\"', 'book_translate': ' нот.', 'book_spic': '', 'book_author': '', 'book_sostavitel': ' тв. пер.\"'}\n"
     ]
    }
   ],
   "source": [
    "tree = open_tree()\n",
    "hash1, hash2 = collect_articles(tree)\n",
    "book_index = index_books(tree)\n",
    "parse_site_data(hash1, hash2, book_index, process_book)\n",
    "save_tree(tree)"
   ]
  },
  {
   "cell_type": "code",
   "execution_count": 82,
   "metadata": {
    "collapsed": false
   },
   "outputs": [
    {
     "name": "stdout",
     "output_type": "stream",
     "text": [
      "dict_keys(['n_code', 'book_description', 'book_format', 'book_price', 'book_title', 'book_edition', 'book_id', 'book_translator', 'book_cid', 'book_author_sostavitel', 'book_bpic', 'book_translate', 'book_spic', 'book_author', 'book_sostavitel'])\n"
     ]
    }
   ],
   "source": [
    "with open('cl_book.csv') as f:\n",
    "    book_reader = csv.DictReader(f, dialect='unix')\n",
    "    row = next(book_reader)\n",
    "    print(row.keys())"
   ]
  }
 ],
 "metadata": {
  "kernelspec": {
   "display_name": "Python 3",
   "language": "python",
   "name": "python3"
  },
  "language_info": {
   "codemirror_mode": {
    "name": "ipython",
    "version": 3
   },
   "file_extension": ".py",
   "mimetype": "text/x-python",
   "name": "python",
   "nbconvert_exporter": "python",
   "pygments_lexer": "ipython3",
   "version": "3.5.1"
  }
 },
 "nbformat": 4,
 "nbformat_minor": 0
}
