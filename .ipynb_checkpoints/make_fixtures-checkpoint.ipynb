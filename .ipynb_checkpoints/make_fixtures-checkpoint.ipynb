{
 "cells": [
  {
   "cell_type": "code",
   "execution_count": 40,
   "metadata": {
    "collapsed": true
   },
   "outputs": [],
   "source": [
    "import lxml\n",
    "from lxml import etree\n",
    "import csv\n",
    "\n"
   ]
  },
  {
   "cell_type": "code",
   "execution_count": 69,
   "metadata": {
    "collapsed": false
   },
   "outputs": [],
   "source": [
    "def collect_articles(tree):\n",
    "    l1 = [book.find('код').text for book in tree.getroot().iter('издание')]\n",
    "    l2 = [\"{:0>5}\".format(article) for article in l1]\n",
    "    return l1, l2\n",
    "        \n",
    "def save_tree(tree, fname='fixture.xml'):\n",
    "    tree.write(fname, encoding='utf-8', pretty_print=True)\n",
    "    \n",
    "def open_tree(fname='oneCdata.xml'):\n",
    "    return etree.parse(fname)\n",
    "    \n",
    "def index_books(tree):\n",
    "    return {book.find('код').text:book for book in tree.getroot().iter(\"издание\")}\n",
    "\n",
    "def parse_site_data(hash1, hash2, book_index, processor):\n",
    "    with open('cl_book.csv') as f:\n",
    "        book_reader = csv.DictReader(f, dialect='unix')\n",
    "        for row in book_reader:\n",
    "            article = row['n_code']\n",
    "            if article in hash2 or article in hash1:\n",
    "                if article in hash2:\n",
    "                    bi = hash1[hash2.find(article)]\n",
    "                else:\n",
    "                    bi = article\n",
    "                book = book_index[bi]\n",
    "                processor(book, row)\n",
    "\n",
    "def process_book(book, site_data):\n",
    "    for k in site_data:\n",
    "        el = etree.Element(k)\n",
    "        el.text = site_data[k]\n",
    "        book.append(el)\n",
    "                \n",
    "                \n",
    "        \n"
   ]
  },
  {
   "cell_type": "code",
   "execution_count": 72,
   "metadata": {
    "collapsed": false
   },
   "outputs": [],
   "source": [
    "tree = open_tree()\n",
    "book = tree.getroot().find(\".//издание\")\n",
    "site_data = {'n_code': '00273', 'book_price': '350', 'book_bpic': '20140312152922.jpg', 'book_description': '<p>Основу книги составляют беседы выдающегося композитора XX века с профессором Лондонского университета А. Ивашкиным. \\xadУникальность «Бесед...» — в спонтанности, необыкновенной емкости изложения и сохранении индиви\\xadдуальной интонации Шнитке.</p>  <p>Тематика диалогов чрезвычайно разнообразна — от воспоминаний юно\\xadсти до философских размышлений о добре и зле, от литературных пристрастий до попыток постичь дух времени. Стержнем бесед является музыка, которая предстает в суждениях Шнитке о собственном творчестве, отзывах о сочинениях современников, миниатюрных аналитических этюдах о музыкальной форме и композиторской технике.</p>  <p>В книге также представлены выступления и заметки самого композитора, интервью с ним, высказывания друзей — М. Ростроповича, Г. Кремера, Г. Рождественского и других. Издание содержит обширный справочный аппарат: полный каталог сочинений, список статей и интервью А. Шнитке. Ряд материалов публикуется впервые.</p>', 'book_spic': '20140312152921.jpg', 'book_id': '204'}\n",
    "process_book(book, site_data)\n",
    "book.find(\"book_description\").text\n",
    "save_tree(tree)"
   ]
  },
  {
   "cell_type": "code",
   "execution_count": 42,
   "metadata": {
    "collapsed": false
   },
   "outputs": [
    {
     "name": "stdout",
     "output_type": "stream",
     "text": [
      "{'n_code': '00273', 'book_price': '350', 'book_bpic': '20140312152922.jpg', 'book_description': '<p>Основу книги составляют беседы выдающегося композитора XX века с профессором Лондонского университета А. Ивашкиным. \\xadУникальность «Бесед...» — в спонтанности, необыкновенной емкости изложения и сохранении индиви\\xadдуальной интонации Шнитке.</p>  <p>Тематика диалогов чрезвычайно разнообразна — от воспоминаний юно\\xadсти до философских размышлений о добре и зле, от литературных пристрастий до попыток постичь дух времени. Стержнем бесед является музыка, которая предстает в суждениях Шнитке о собственном творчестве, отзывах о сочинениях современников, миниатюрных аналитических этюдах о музыкальной форме и композиторской технике.</p>  <p>В книге также представлены выступления и заметки самого композитора, интервью с ним, высказывания друзей — М. Ростроповича, Г. Кремера, Г. Рождественского и других. Издание содержит обширный справочный аппарат: полный каталог сочинений, список статей и интервью А. Шнитке. Ряд материалов публикуется впервые.</p>', 'book_spic': '20140312152921.jpg', 'book_id': '204'}\n",
      "{'n_code': '00499', 'book_price': '40', 'book_bpic': '20050219230208.jpg', 'book_description': '  <p>Книга Марии Николаевны Бариновой, профессора Петербургской консерватории (1911-1928), предоставляет современному музыканту уникальную возможность - &quot;побывать&quot; на уроках и &quot;мастер-классах&quot; двух легендарных пианистов ХХ века: Иосифа Гофмана и Ферруччо Бузони. </p>  <p>В первом десятилетии нашего столетия Бузони уже не давал частных уроков фортепианной игры, а Гофман не давал их вовсе. Бариновой посчастливилось стать единственным исключением - она занималась у обоих. Свои впечатления пианистка сохранила для потомков: в мемуарах она воспроизводит не только атмосферу занятий и облик великих современников, но и детально фиксирует особенности трактовки ими сочинений Моцарта, Шопена, Шумана, Бетховена и др., до мельчайших деталей записывает все их педагогические указания - от сугубо технических (положения рук и корпуса при игре) до эстетических. Поэтому воспоминания Бариновой с полным правом можно считать своеобразным учебным пособием для игры &quot;по Гофману и Бузони&quot;. </p><p>&nbsp;</p><p>Состояние - хорошее. <br /></p>', 'book_spic': '20050219230207.jpg', 'book_id': '12'}\n"
     ]
    }
   ],
   "source": []
  }
 ],
 "metadata": {
  "kernelspec": {
   "display_name": "Python 3",
   "language": "python",
   "name": "python3"
  },
  "language_info": {
   "codemirror_mode": {
    "name": "ipython",
    "version": 3
   },
   "file_extension": ".py",
   "mimetype": "text/x-python",
   "name": "python",
   "nbconvert_exporter": "python",
   "pygments_lexer": "ipython3",
   "version": "3.5.1"
  }
 },
 "nbformat": 4,
 "nbformat_minor": 0
}
